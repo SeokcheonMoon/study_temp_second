{
  "nbformat": 4,
  "nbformat_minor": 0,
  "metadata": {
    "colab": {
      "provenance": [],
      "include_colab_link": true
    },
    "kernelspec": {
      "name": "python3",
      "display_name": "Python 3"
    },
    "language_info": {
      "name": "python"
    }
  },
  "cells": [
    {
      "cell_type": "markdown",
      "metadata": {
        "id": "view-in-github",
        "colab_type": "text"
      },
      "source": [
        "<a href=\"https://colab.research.google.com/github/SeokcheonMoon/study_temp_second/blob/main/initial_quest_seokcheonmoon.ipynb\" target=\"_parent\"><img src=\"https://colab.research.google.com/assets/colab-badge.svg\" alt=\"Open In Colab\"/></a>"
      ]
    },
    {
      "cell_type": "code",
      "source": [
        "# quest 3\n",
        "input_first = \"28\"\n",
        "input_second = \"9\"\n",
        "command = \"을 곱셈했음\"\n",
        "print(input_first + command)"
      ],
      "metadata": {
        "id": "WMJGLPPTGYDY",
        "colab": {
          "base_uri": "https://localhost:8080/"
        },
        "outputId": "bd4ac328-0563-4740-c686-f1ceba8c861a"
      },
      "execution_count": null,
      "outputs": [
        {
          "output_type": "stream",
          "name": "stdout",
          "text": [
            "28을 곱셈했음\n"
          ]
        }
      ]
    },
    {
      "cell_type": "code",
      "source": [
        "print(input_second + command)"
      ],
      "metadata": {
        "colab": {
          "base_uri": "https://localhost:8080/"
        },
        "id": "o7YK35N-24EL",
        "outputId": "be44d2b8-daf6-468f-9330-a7cf03a9910d"
      },
      "execution_count": null,
      "outputs": [
        {
          "output_type": "stream",
          "name": "stdout",
          "text": [
            "9을 곱셈했음\n"
          ]
        }
      ]
    },
    {
      "cell_type": "code",
      "source": [
        "input_first = 4\n",
        "input_second = 7\n",
        "command = \"을 곱셈했음\"\n",
        "print(input_first*input_second + command)"
      ],
      "metadata": {
        "colab": {
          "base_uri": "https://localhost:8080/",
          "height": 223
        },
        "id": "70LpIHkV3rLY",
        "outputId": "ba16f754-24b5-4912-cb25-bc3298a194df"
      },
      "execution_count": null,
      "outputs": [
        {
          "output_type": "error",
          "ename": "TypeError",
          "evalue": "ignored",
          "traceback": [
            "\u001b[0;31m---------------------------------------------------------------------------\u001b[0m",
            "\u001b[0;31mTypeError\u001b[0m                                 Traceback (most recent call last)",
            "\u001b[0;32m<ipython-input-4-3e93ca2e13d1>\u001b[0m in \u001b[0;36m<cell line: 4>\u001b[0;34m()\u001b[0m\n\u001b[1;32m      2\u001b[0m \u001b[0minput_second\u001b[0m \u001b[0;34m=\u001b[0m \u001b[0;36m7\u001b[0m\u001b[0;34m\u001b[0m\u001b[0;34m\u001b[0m\u001b[0m\n\u001b[1;32m      3\u001b[0m \u001b[0mcommand\u001b[0m \u001b[0;34m=\u001b[0m \u001b[0;34m\"을 곱셈했음\"\u001b[0m\u001b[0;34m\u001b[0m\u001b[0;34m\u001b[0m\u001b[0m\n\u001b[0;32m----> 4\u001b[0;31m \u001b[0mprint\u001b[0m\u001b[0;34m(\u001b[0m\u001b[0minput_first\u001b[0m\u001b[0;34m*\u001b[0m\u001b[0minput_second\u001b[0m \u001b[0;34m+\u001b[0m \u001b[0mcommand\u001b[0m\u001b[0;34m)\u001b[0m\u001b[0;34m\u001b[0m\u001b[0;34m\u001b[0m\u001b[0m\n\u001b[0m",
            "\u001b[0;31mTypeError\u001b[0m: unsupported operand type(s) for +: 'int' and 'str'"
          ]
        }
      ]
    },
    {
      "cell_type": "code",
      "source": [
        "input_first = 4\n",
        "input_second = 7\n",
        "command = \"을 곱셈했음\"\n",
        "print(\"input_first*input_second\" + command)"
      ],
      "metadata": {
        "colab": {
          "base_uri": "https://localhost:8080/"
        },
        "id": "kHfPdaty4QJT",
        "outputId": "6b6db56b-052c-4264-c027-6cb9bb607cb4"
      },
      "execution_count": null,
      "outputs": [
        {
          "output_type": "stream",
          "name": "stdout",
          "text": [
            "input_first*input_second을 곱셈했음\n"
          ]
        }
      ]
    },
    {
      "cell_type": "code",
      "source": [
        "input_first = 4\n",
        "input_second = 7\n",
        "command = \"을 곱셈했음\"\n",
        "print(input_first*input_second,command)"
      ],
      "metadata": {
        "colab": {
          "base_uri": "https://localhost:8080/"
        },
        "id": "BGC9yJAQ4nk7",
        "outputId": "9036dfac-6cd7-4e9e-fa76-6418326af104"
      },
      "execution_count": null,
      "outputs": [
        {
          "output_type": "stream",
          "name": "stdout",
          "text": [
            "28 을 곱셈했음\n"
          ]
        }
      ]
    },
    {
      "cell_type": "code",
      "source": [
        "input_first = 9\n",
        "input_second = 1\n",
        "command = \"을 곱셈했음\"\n",
        "print(input_first*input_second, command)"
      ],
      "metadata": {
        "colab": {
          "base_uri": "https://localhost:8080/"
        },
        "id": "NVdagYWE4v46",
        "outputId": "843c00e6-f4af-4e10-d9cc-08a3edccc399"
      },
      "execution_count": null,
      "outputs": [
        {
          "output_type": "stream",
          "name": "stdout",
          "text": [
            "9 을 곱셈했음\n"
          ]
        }
      ]
    }
  ]
}