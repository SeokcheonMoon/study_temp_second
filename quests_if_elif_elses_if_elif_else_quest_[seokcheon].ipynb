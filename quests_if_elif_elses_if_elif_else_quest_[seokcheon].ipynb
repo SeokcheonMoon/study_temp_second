{
  "nbformat": 4,
  "nbformat_minor": 0,
  "metadata": {
    "colab": {
      "provenance": [],
      "authorship_tag": "ABX9TyN06DecP2Ri7Mb+fL/8mJ3P",
      "include_colab_link": true
    },
    "kernelspec": {
      "name": "python3",
      "display_name": "Python 3"
    },
    "language_info": {
      "name": "python"
    }
  },
  "cells": [
    {
      "cell_type": "markdown",
      "metadata": {
        "id": "view-in-github",
        "colab_type": "text"
      },
      "source": [
        "<a href=\"https://colab.research.google.com/github/SeokcheonMoon/study_temp_second/blob/main/quests_if_elif_elses_if_elif_else_quest_%5Bseokcheon%5D.ipynb\" target=\"_parent\"><img src=\"https://colab.research.google.com/assets/colab-badge.svg\" alt=\"Open In Colab\"/></a>"
      ]
    },
    {
      "cell_type": "code",
      "execution_count": 4,
      "metadata": {
        "id": "qwLvurPrunNn",
        "colab": {
          "base_uri": "https://localhost:8080/"
        },
        "outputId": "64eb9b6c-beec-4dfc-dde1-7fb7f5a5b7eb"
      },
      "outputs": [
        {
          "output_type": "stream",
          "name": "stdout",
          "text": [
            "B\n"
          ]
        }
      ],
      "source": [
        "# if elif else with 숫자\n",
        "scores = 71\n",
        "# 80점 이상이면 B\n",
        "# 70점 이상이면 C\n",
        "# 60점 미만이면 F\n",
        "\n",
        "\n",
        "if ( scores >= 80) :\n",
        "  pass\n",
        "  print(\"A\")\n",
        "elif ( scores >= 70) :\n",
        "  pass\n",
        "  print(\"B\")\n",
        "else :\n",
        "  pass\n",
        "  print(\"C\")"
      ]
    }
  ]
}