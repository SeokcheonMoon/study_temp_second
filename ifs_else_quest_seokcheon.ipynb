{
  "nbformat": 4,
  "nbformat_minor": 0,
  "metadata": {
    "colab": {
      "provenance": [],
      "authorship_tag": "ABX9TyM0kUnq/eU9TDi1vCnPaZYw",
      "include_colab_link": true
    },
    "kernelspec": {
      "name": "python3",
      "display_name": "Python 3"
    },
    "language_info": {
      "name": "python"
    }
  },
  "cells": [
    {
      "cell_type": "markdown",
      "metadata": {
        "id": "view-in-github",
        "colab_type": "text"
      },
      "source": [
        "<a href=\"https://colab.research.google.com/github/SeokcheonMoon/study_temp_second/blob/main/ifs_else_quest_seokcheon.ipynb\" target=\"_parent\"><img src=\"https://colab.research.google.com/assets/colab-badge.svg\" alt=\"Open In Colab\"/></a>"
      ]
    },
    {
      "cell_type": "code",
      "execution_count": 1,
      "metadata": {
        "colab": {
          "base_uri": "https://localhost:8080/",
          "height": 147
        },
        "id": "TuleCa9Yd6nn",
        "outputId": "01378b55-b9b9-4428-a8f7-f6e2f6aee9ae"
      },
      "outputs": [
        {
          "output_type": "error",
          "ename": "SyntaxError",
          "evalue": "ignored",
          "traceback": [
            "\u001b[0;36m  File \u001b[0;32m\"<ipython-input-1-4491cc883073>\"\u001b[0;36m, line \u001b[0;32m3\u001b[0m\n\u001b[0;31m    if( direction = 1 ) :\u001b[0m\n\u001b[0m        ^\u001b[0m\n\u001b[0;31mSyntaxError\u001b[0m\u001b[0;31m:\u001b[0m invalid syntax. Maybe you meant '==' or ':=' instead of '='?\n"
          ]
        }
      ],
      "source": [
        "# quest\n",
        "direction = 1\n",
        "if( direction = 1 ) :\n",
        "  pass\n",
        "  print(\"left\")\n",
        "else\n",
        "  pass\n",
        "  print(\"right\")"
      ]
    },
    {
      "cell_type": "code",
      "source": [
        "# quest\n",
        "direction = 1\n",
        "if( direction == 1 ) :\n",
        "  pass\n",
        "  print(\"left\")\n",
        "else :\n",
        "  pass\n",
        "  print(\"right\")"
      ],
      "metadata": {
        "colab": {
          "base_uri": "https://localhost:8080/"
        },
        "id": "cIDAlXwme2yG",
        "outputId": "57518692-03db-4208-be10-4a0b5af07e5c"
      },
      "execution_count": 4,
      "outputs": [
        {
          "output_type": "stream",
          "name": "stdout",
          "text": [
            "left\n"
          ]
        }
      ]
    },
    {
      "cell_type": "code",
      "source": [
        "direction = 5\n",
        "if( direction == 1 ) :\n",
        "  pass\n",
        "  print(\"left\")\n",
        "else:\n",
        "  pass\n",
        "  print(\"right\")"
      ],
      "metadata": {
        "colab": {
          "base_uri": "https://localhost:8080/"
        },
        "id": "bbSGShO-e7UX",
        "outputId": "b8933cd0-7704-4bd2-8d61-809bb6becd21"
      },
      "execution_count": 7,
      "outputs": [
        {
          "output_type": "stream",
          "name": "stdout",
          "text": [
            "right\n"
          ]
        }
      ]
    }
  ]
}